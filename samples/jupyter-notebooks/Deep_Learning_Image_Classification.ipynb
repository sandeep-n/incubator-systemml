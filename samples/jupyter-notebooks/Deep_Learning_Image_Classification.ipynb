{
 "cells": [
  {
   "cell_type": "markdown",
   "metadata": {},
   "source": [
    "# Deep Learning Image Classification using Apache SystemML\n",
    "\n",
    "This notebook demonstrates how to train a deep learning model on SystemML for the classic [MNIST](http://yann.lecun.com/exdb/mnist/) problem of mapping images of single digit numbers to their corresponding numeric representations, using a classic [LeNet](http://yann.lecun.com/exdb/lenet/)-like convolutional neural network model. See [Neural Networks and Deep Learning](http://neuralnetworksanddeeplearning.com/chap6.html) for more information on neural networks and deep learning.\n",
    "\n",
    "The downloaded MNIST dataset contains labeled images of handwritten digits, where each example is a 28x28 pixel image of grayscale values in the range [0,255] stretched out as 784 pixels, and each label is one of 10 possible digits in [0,9].  We download 60,000 training examples, and 10,000 test examples, where the images and labels are stored in separate matrices.  We then train a SystemML LeNet-like convolutional neural network (i.e. \"convnet\", \"CNN\") model.  The resulting trained model has an accuracy of 98.6% on the test dataset.\n",
    "\n",
    "1. [Download the MNIST data](#download_data)\n",
    "1. [Train a CNN classifier for MNIST handwritten digits](#train)\n",
    "1. [Detect handwritten Digits](#predict)"
   ]
  },
  {
   "cell_type": "markdown",
   "metadata": {},
   "source": [
    "<div style=\"text-align:center\" markdown=\"1\">\n",
    "![Image of Image to Digit](https://www.wolfram.com/mathematica/new-in-10/enhanced-image-processing/HTMLImages.en/handwritten-digits-classification/smallthumb_10.gif)\n",
    "Mapping images of numbers to numbers\n",
    "</div>"
   ]
  },
  {
   "cell_type": "markdown",
   "metadata": {},
   "source": [
    "### Note: This notebook is supported with SystemML 0.14.0 and above."
   ]
  },
  {
   "cell_type": "code",
   "execution_count": null,
   "metadata": {
    "collapsed": true
   },
   "outputs": [],
   "source": [
    "!pip show systemml"
   ]
  },
  {
   "cell_type": "code",
   "execution_count": null,
   "metadata": {},
   "outputs": [],
   "source": [
    "%matplotlib inline\n",
    "\n",
    "import matplotlib.pyplot as plt\n",
    "import numpy as np\n",
    "import pandas as pd\n",
    "from sklearn import datasets\n",
    "from sklearn.cross_validation import train_test_split  # module deprecated in 0.18\n",
    "#from sklearn.model_selection import train_test_split  # use this module for >=0.18\n",
    "from sklearn import metrics\n",
    "from systemml import MLContext, dml"
   ]
  },
  {
   "cell_type": "code",
   "execution_count": null,
   "metadata": {},
   "outputs": [],
   "source": [
    "ml = MLContext(sc)\n",
    "print(\"Spark Version: {}\".format(sc.version))\n",
    "print(\"SystemML Version: {}\".format(ml.version()))\n",
    "print(\"SystemML Built-Time: {}\".format(ml.buildTime()))"
   ]
  },
  {
   "cell_type": "markdown",
   "metadata": {},
   "source": [
    "<a id=\"download_data\"></a>\n",
    "## Download the MNIST data\n",
    "\n",
    "Download the [MNIST data from the MLData repository](http://mldata.org/repository/data/viewslug/mnist-original/), and then split and save."
   ]
  },
  {
   "cell_type": "code",
   "execution_count": null,
   "metadata": {},
   "outputs": [],
   "source": [
    "mnist = datasets.fetch_mldata(\"MNIST Original\")\n",
    "\n",
    "print(\"MNIST data features: {}\".format(mnist.data.shape))\n",
    "print(\"MNIST data labels: {}\".format(mnist.target.shape))\n",
    "\n",
    "X_train, X_test, y_train, y_test = train_test_split(\n",
    "    mnist.data, mnist.target.astype(np.uint8).reshape(-1, 1),\n",
    "    test_size = 10000)\n",
    "\n",
    "print(\"Training images, labels: {}, {}\".format(X_train.shape, y_train.shape))\n",
    "print(\"Testing images, labels: {}, {}\".format(X_test.shape, y_test.shape))\n",
    "print(\"Each image is: {0:d}x{0:d} pixels\".format(int(np.sqrt(X_train.shape[1]))))"
   ]
  },
  {
   "cell_type": "markdown",
   "metadata": {},
   "source": [
    "### Note: The following command is not required for code above SystemML 0.14 (master branch dated 05/15/2017 or later)."
   ]
  },
  {
   "cell_type": "code",
   "execution_count": null,
   "metadata": {},
   "outputs": [],
   "source": [
    "!svn --force export https://github.com/apache/systemml/trunk/scripts/nn"
   ]
  },
  {
   "cell_type": "markdown",
   "metadata": {},
   "source": [
    "<a id=\"train\"></a>\n",
    "## Train a LeNet-like CNN classifier on the training data"
   ]
  },
  {
   "cell_type": "markdown",
   "metadata": {},
   "source": [
    "<div style=\"text-align:center\" markdown=\"1\">\n",
    "![Image of Image to Digit](http://www.ommegaonline.org/admin/journalassistance/picturegallery/896.jpg)\n",
    "MNIST digit recognition – LeNet architecture\n",
    "</div>"
   ]
  },
  {
   "cell_type": "markdown",
   "metadata": {},
   "source": [
    "### Train a LeNet-like CNN model using SystemML"
   ]
  },
  {
   "cell_type": "code",
   "execution_count": null,
   "metadata": {
    "collapsed": true
   },
   "outputs": [],
   "source": [
    "script = \"\"\"\n",
    "  source(\"nn/examples/mnist_lenet.dml\") as mnist_lenet\n",
    "\n",
    "  # Scale images to [-1,1], and one-hot encode the labels\n",
    "  images = (images / 255) * 2 - 1\n",
    "  n = nrow(images)\n",
    "  labels = table(seq(1, n), labels+1, n, 10)\n",
    "\n",
    "  # Split into training (55,000 examples) and validation (5,000 examples)\n",
    "  X = images[5001:nrow(images),]\n",
    "  X_val = images[1:5000,]\n",
    "  y = labels[5001:nrow(images),]\n",
    "  y_val = labels[1:5000,]\n",
    "\n",
    "  # Train the model to produce weights & biases.\n",
    "  [W1, b1, W2, b2, W3, b3, W4, b4] = mnist_lenet::train(X, y, X_val, y_val, C, Hin, Win, epochs)\n",
    "\"\"\"\n",
    "out = ('W1', 'b1', 'W2', 'b2', 'W3', 'b3', 'W4', 'b4')\n",
    "prog = (dml(script).input(images=X_train, labels=y_train, epochs=1, C=1, Hin=28, Win=28)\n",
    "                   .output(*out))\n",
    "\n",
    "W1, b1, W2, b2, W3, b3, W4, b4 = ml.execute(prog).get(*out)"
   ]
  },
  {
   "cell_type": "markdown",
   "metadata": {},
   "source": [
    "Use the trained model to make predictions for the test data, and evaluate the quality of the predictions."
   ]
  },
  {
   "cell_type": "code",
   "execution_count": null,
   "metadata": {
    "collapsed": true
   },
   "outputs": [],
   "source": [
    "script_predict = \"\"\"\n",
    "  source(\"nn/examples/mnist_lenet.dml\") as mnist_lenet\n",
    "\n",
    "  # Scale images to [-1,1]\n",
    "  X_test = (X_test / 255) * 2 - 1\n",
    "\n",
    "  # Predict\n",
    "  y_prob = mnist_lenet::predict(X_test, C, Hin, Win, W1, b1, W2, b2, W3, b3, W4, b4)\n",
    "  y_pred = rowIndexMax(y_prob) - 1\n",
    "\"\"\"\n",
    "prog = (dml(script_predict).input(X_test=X_test, C=1, Hin=28, Win=28, W1=W1, b1=b1,\n",
    "                                  W2=W2, b2=b2, W3=W3, b3=b3, W4=W4, b4=b4)\n",
    "                           .output(\"y_pred\"))\n",
    "\n",
    "y_pred = ml.execute(prog).get(\"y_pred\").toNumPy()"
   ]
  },
  {
   "cell_type": "code",
   "execution_count": null,
   "metadata": {},
   "outputs": [],
   "source": [
    "print(metrics.accuracy_score(y_test, y_pred))\n",
    "print(metrics.classification_report(y_test, y_pred))"
   ]
  },
  {
   "cell_type": "markdown",
   "metadata": {},
   "source": [
    "<a id=\"predict\"></a>\n",
    "## Detect handwritten digits"
   ]
  },
  {
   "cell_type": "markdown",
   "metadata": {},
   "source": [
    "Define a function that randomly selects a test image, displays the image, and scores it."
   ]
  },
  {
   "cell_type": "code",
   "execution_count": null,
   "metadata": {
    "collapsed": true
   },
   "outputs": [],
   "source": [
    "img_size = int(np.sqrt(X_test.shape[1]))\n",
    "\n",
    "def displayImage(i):\n",
    "  image = (X_test[i]).reshape(img_size, img_size).astype(np.uint8)\n",
    "  imgplot = plt.imshow(image, cmap='gray')   "
   ]
  },
  {
   "cell_type": "code",
   "execution_count": null,
   "metadata": {
    "collapsed": true
   },
   "outputs": [],
   "source": [
    "def predictImage(i):\n",
    "  image = X_test[i].reshape(1, -1)\n",
    "  out = \"y_pred\"\n",
    "  prog = (dml(script_predict).input(X_test=image, C=1, Hin=28, Win=28, W1=W1, b1=b1,\n",
    "                                    W2=W2, b2=b2, W3=W3, b3=b3, W4=W4, b4=b4)\n",
    "                             .output(out))\n",
    "  pred = int(ml.execute(prog).get(out).toNumPy())\n",
    "  return pred"
   ]
  },
  {
   "cell_type": "code",
   "execution_count": null,
   "metadata": {},
   "outputs": [],
   "source": [
    "i = np.random.randint(len(X_test))\n",
    "p = predictImage(i)\n",
    "\n",
    "print(\"Image {}\\nPredicted digit: {}\\nActual digit: {}\\nResult: {}\".format(\n",
    "    i, p, int(y_test[i]), p == int(y_test[i])))\n",
    "\n",
    "displayImage(i)"
   ]
  },
  {
   "cell_type": "code",
   "execution_count": null,
   "metadata": {},
   "outputs": [],
   "source": [
    "pd.set_option('display.max_columns', 28)\n",
    "pd.DataFrame((X_test[i]).reshape(img_size, img_size), dtype='uint')"
   ]
  }
 ],
 "metadata": {
  "kernelspec": {
   "display_name": "Python 3 + Spark 2.x + SystemML",
   "language": "python",
   "name": "pyspark3_2.x"
  },
  "language_info": {
   "codemirror_mode": {
    "name": "ipython",
    "version": 3
   },
   "file_extension": ".py",
   "mimetype": "text/x-python",
   "name": "python",
   "nbconvert_exporter": "python",
   "pygments_lexer": "ipython3",
   "version": "3.6.1"
  }
 },
 "nbformat": 4,
 "nbformat_minor": 1
}
